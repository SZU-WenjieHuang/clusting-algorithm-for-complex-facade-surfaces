{
  "nbformat": 4,
  "nbformat_minor": 0,
  "metadata": {
    "kernelspec": {
      "display_name": "Python 3",
      "language": "python",
      "name": "python3"
    },
    "language_info": {
      "codemirror_mode": {
        "name": "ipython",
        "version": 3
      },
      "file_extension": ".py",
      "mimetype": "text/x-python",
      "name": "python",
      "nbconvert_exporter": "python",
      "pygments_lexer": "ipython3",
      "version": "3.8.8"
    },
    "colab": {
      "name": "Xkool_Technology_KmeansPanels.ipynb",
      "provenance": [],
      "collapsed_sections": []
    }
  },
  "cells": [
    {
      "cell_type": "code",
      "metadata": {
        "scrolled": true,
        "id": "JdpJMuZyaDGA"
      },
      "source": [
        "from sklearn.cluster import KMeans\n",
        "from sklearn.preprocessing import OneHotEncoder\n",
        "from sklearn.preprocessing import LabelEncoder\n",
        "from sklearn import preprocessing\n",
        "import pandas as pd\n",
        "import numpy as np\n",
        "import matplotlib.pylab as plt\n",
        "from sklearn.preprocessing import StandardScaler\n",
        "%matplotlib inline"
      ],
      "execution_count": null,
      "outputs": []
    },
    {
      "cell_type": "code",
      "metadata": {
        "colab": {
          "base_uri": "https://localhost:8080/"
        },
        "id": "sRimr0KoasVD",
        "outputId": "34fdb8cf-7acb-446b-a1a3-5ef6338dca28"
      },
      "source": [
        "from google.colab import drive\n",
        "drive.mount('/content/drive')"
      ],
      "execution_count": null,
      "outputs": [
        {
          "output_type": "stream",
          "name": "stdout",
          "text": [
            "Mounted at /content/drive\n"
          ]
        }
      ]
    },
    {
      "cell_type": "code",
      "metadata": {
        "colab": {
          "base_uri": "https://localhost:8080/",
          "height": 240
        },
        "id": "AZu2kQCZaDGC",
        "outputId": "2b50c19a-99a2-4246-fa9b-c7f8df8b51a5"
      },
      "source": [
        "#读取本地数据集\n",
        "outputpath='/content/drive/MyDrive/Xkool_Technology'\n",
        "raw_data =pd.read_csv('/content/drive/MyDrive/Xkool_Technology/Panels_Deconstruct.csv', encoding='utf-8')\n",
        "\n",
        "#返回数据组，即导出一个几行几列的数组（带有特征的矩阵）\n",
        "print(raw_data .shape)\n",
        "\n",
        "# reshape到指定的panels对应shape（每个panels对应12个数字）\n",
        "Array_data = np.array(raw_data)\n",
        "Reshape_data = Array_data.reshape(480,12)\n",
        "VectorData = pd.DataFrame(Reshape_data)\n",
        "print(VectorData.shape)\n",
        "\n",
        "#用0去补充缺失的数据位置\n",
        "#raw_data = pd.DataFrame(raw_data).fillna(0)\n",
        "\n",
        "#返回数据组的前面几组数据（默认n=5，即导出前5组作为测试）\n",
        "raw_data.head(n=5)\n",
        "VectorData.head(n=5)\n"
      ],
      "execution_count": null,
      "outputs": [
        {
          "output_type": "stream",
          "name": "stdout",
          "text": [
            "(5760, 1)\n",
            "(480, 12)\n"
          ]
        },
        {
          "output_type": "execute_result",
          "data": {
            "text/html": [
              "<div>\n",
              "<style scoped>\n",
              "    .dataframe tbody tr th:only-of-type {\n",
              "        vertical-align: middle;\n",
              "    }\n",
              "\n",
              "    .dataframe tbody tr th {\n",
              "        vertical-align: top;\n",
              "    }\n",
              "\n",
              "    .dataframe thead th {\n",
              "        text-align: right;\n",
              "    }\n",
              "</style>\n",
              "<table border=\"1\" class=\"dataframe\">\n",
              "  <thead>\n",
              "    <tr style=\"text-align: right;\">\n",
              "      <th></th>\n",
              "      <th>0</th>\n",
              "      <th>1</th>\n",
              "      <th>2</th>\n",
              "      <th>3</th>\n",
              "      <th>4</th>\n",
              "      <th>5</th>\n",
              "      <th>6</th>\n",
              "      <th>7</th>\n",
              "      <th>8</th>\n",
              "      <th>9</th>\n",
              "      <th>10</th>\n",
              "      <th>11</th>\n",
              "    </tr>\n",
              "  </thead>\n",
              "  <tbody>\n",
              "    <tr>\n",
              "      <th>0</th>\n",
              "      <td>0.556498</td>\n",
              "      <td>0.805695</td>\n",
              "      <td>-0.836094</td>\n",
              "      <td>-0.498969</td>\n",
              "      <td>-0.310500</td>\n",
              "      <td>1.362445</td>\n",
              "      <td>-1.361114</td>\n",
              "      <td>0.410327</td>\n",
              "      <td>-0.939574</td>\n",
              "      <td>0.992470</td>\n",
              "      <td>-0.961440</td>\n",
              "      <td>1.013744</td>\n",
              "    </tr>\n",
              "    <tr>\n",
              "      <th>1</th>\n",
              "      <td>0.695071</td>\n",
              "      <td>1.016091</td>\n",
              "      <td>-1.050541</td>\n",
              "      <td>-0.630349</td>\n",
              "      <td>-0.793678</td>\n",
              "      <td>1.014900</td>\n",
              "      <td>-0.967446</td>\n",
              "      <td>0.866970</td>\n",
              "      <td>-0.940639</td>\n",
              "      <td>1.003385</td>\n",
              "      <td>-0.947889</td>\n",
              "      <td>1.014005</td>\n",
              "    </tr>\n",
              "    <tr>\n",
              "      <th>2</th>\n",
              "      <td>0.563094</td>\n",
              "      <td>0.981460</td>\n",
              "      <td>-1.015003</td>\n",
              "      <td>-0.510264</td>\n",
              "      <td>-1.276646</td>\n",
              "      <td>0.556302</td>\n",
              "      <td>-0.476303</td>\n",
              "      <td>1.296904</td>\n",
              "      <td>-0.953974</td>\n",
              "      <td>1.009678</td>\n",
              "      <td>-0.949055</td>\n",
              "      <td>0.999016</td>\n",
              "    </tr>\n",
              "    <tr>\n",
              "      <th>3</th>\n",
              "      <td>0.413180</td>\n",
              "      <td>0.902019</td>\n",
              "      <td>-0.934285</td>\n",
              "      <td>-0.370525</td>\n",
              "      <td>-1.465143</td>\n",
              "      <td>0.285566</td>\n",
              "      <td>-0.201977</td>\n",
              "      <td>1.445683</td>\n",
              "      <td>-0.968924</td>\n",
              "      <td>1.003388</td>\n",
              "      <td>-0.955316</td>\n",
              "      <td>0.986867</td>\n",
              "    </tr>\n",
              "    <tr>\n",
              "      <th>4</th>\n",
              "      <td>0.294110</td>\n",
              "      <td>0.827523</td>\n",
              "      <td>-0.852604</td>\n",
              "      <td>-0.259915</td>\n",
              "      <td>-1.450995</td>\n",
              "      <td>0.167399</td>\n",
              "      <td>-0.087224</td>\n",
              "      <td>1.422412</td>\n",
              "      <td>-0.973163</td>\n",
              "      <td>1.001966</td>\n",
              "      <td>-0.957313</td>\n",
              "      <td>0.983324</td>\n",
              "    </tr>\n",
              "  </tbody>\n",
              "</table>\n",
              "</div>"
            ],
            "text/plain": [
              "         0         1         2   ...        9         10        11\n",
              "0  0.556498  0.805695 -0.836094  ...  0.992470 -0.961440  1.013744\n",
              "1  0.695071  1.016091 -1.050541  ...  1.003385 -0.947889  1.014005\n",
              "2  0.563094  0.981460 -1.015003  ...  1.009678 -0.949055  0.999016\n",
              "3  0.413180  0.902019 -0.934285  ...  1.003388 -0.955316  0.986867\n",
              "4  0.294110  0.827523 -0.852604  ...  1.001966 -0.957313  0.983324\n",
              "\n",
              "[5 rows x 12 columns]"
            ]
          },
          "metadata": {},
          "execution_count": 11
        }
      ]
    },
    {
      "cell_type": "code",
      "metadata": {
        "colab": {
          "base_uri": "https://localhost:8080/"
        },
        "id": "GS1hjPzfaDGE",
        "outputId": "3d764c9a-4981-4ab7-8a84-13b1ebfde1ce"
      },
      "source": [
        "list(VectorData)"
      ],
      "execution_count": null,
      "outputs": [
        {
          "output_type": "execute_result",
          "data": {
            "text/plain": [
              "[0, 1, 2, 3, 4, 5, 6, 7, 8, 9, 10, 11]"
            ]
          },
          "metadata": {},
          "execution_count": 13
        }
      ]
    },
    {
      "cell_type": "code",
      "metadata": {
        "colab": {
          "base_uri": "https://localhost:8080/"
        },
        "id": "awJFJvfUaDGH",
        "outputId": "d4f07dd5-e8a0-4885-936a-8397ffd76383"
      },
      "source": [
        "df = VectorData\n",
        "list(df)"
      ],
      "execution_count": null,
      "outputs": [
        {
          "output_type": "execute_result",
          "data": {
            "text/plain": [
              "[0, 1, 2, 3, 4, 5, 6, 7, 8, 9, 10, 11]"
            ]
          },
          "metadata": {},
          "execution_count": 14
        }
      ]
    },
    {
      "cell_type": "code",
      "metadata": {
        "colab": {
          "base_uri": "https://localhost:8080/",
          "height": 541
        },
        "id": "NZk-c8zraDGH",
        "outputId": "6ccce0ae-7ad3-4d80-f6d0-fb3faecafa94"
      },
      "source": [
        "#轮廓系数和手肘图寻找k值\n",
        "# '利用SSE选择k'\n",
        "SSE = []  # 存放每次结果的误差平方和\n",
        "for k in range(1, 20):\n",
        "    estimator = KMeans(n_clusters=k)  # 构造聚类器\n",
        "    estimator.fit(df)\n",
        "    SSE.append(estimator.inertia_)\n",
        "X = range(1, 20)\n",
        "plt.xlabel('k')\n",
        "plt.ylabel('SSE')\n",
        "plt.plot(X, SSE, 'o-')\n",
        "plt.show()\n",
        "\n",
        "#利用轮廓系数找最优的凝聚度和分离度\n",
        "from sklearn.metrics import silhouette_score\n",
        "Scores = [0]  # 存放轮廓系数,根据轮廓系数的计算公式，只有一个类簇时，轮廓系数为0\n",
        "for k in range(2,20):\n",
        "    estimator = KMeans(n_clusters=k)  # 构造聚类器\n",
        "    estimator.fit(df)\n",
        "    Scores.append(silhouette_score(df,estimator.labels_,metric='euclidean'))\n",
        "X = range(1,20)\n",
        "plt.xlabel('k')\n",
        "plt.ylabel('silhouette')\n",
        "plt.plot(X,Scores,'o-')\n",
        "plt.show()"
      ],
      "execution_count": null,
      "outputs": [
        {
          "output_type": "display_data",
          "data": {
            "image/png": "[encoded data removed]",
            "text/plain": [
              "<Figure size 432x288 with 1 Axes>"
            ]
          },
          "metadata": {
            "needs_background": "light"
          }
        },
        {
          "output_type": "display_data",
          "data": {
            "image/png": "[encoded data removed]",
            "text/plain": [
              "<Figure size 432x288 with 1 Axes>"
            ]
          },
          "metadata": {
            "needs_background": "light"
          }
        }
      ]
    },
    {
      "cell_type": "code",
      "metadata": {
        "colab": {
          "base_uri": "https://localhost:8080/"
        },
        "id": "WKt2p6_-aDGI",
        "outputId": "a159a7cf-0837-4732-8f93-e1319b96bfb7"
      },
      "source": [
        "# 训练简单模型\n",
        "import sklearn\n",
        "from sklearn.cluster import KMeans\n",
        "from sklearn.metrics import silhouette_score\n",
        "outpath = 'C:/Users/Administrator/Desktop/dachuagnbi/dachaugnsz/kmeans_result1.csv'\n",
        "est=sklearn.cluster.KMeans(n_clusters=8,\n",
        "                           init='k-means++', \n",
        "                           n_init=100, \n",
        "                           max_iter=500, \n",
        "                           tol=0.0001, \n",
        "                           precompute_distances='auto', \n",
        "                           verbose=0, \n",
        "                           random_state=None, #调特征时可以先固定\n",
        "                           copy_x=True, \n",
        "                           n_jobs=1, \n",
        "                           algorithm='auto'\n",
        "    )\n",
        "est.fit(df)\n",
        "silhouette_score(df,est.labels_)\n",
        "\n",
        "\n"
      ],
      "execution_count": null,
      "outputs": [
        {
          "output_type": "execute_result",
          "data": {
            "text/plain": [
              "0.4711190995113734"
            ]
          },
          "metadata": {},
          "execution_count": 19
        }
      ]
    },
    {
      "cell_type": "code",
      "metadata": {
        "colab": {
          "base_uri": "https://localhost:8080/",
          "height": 204
        },
        "id": "_b3hO_pgkMJL",
        "outputId": "a2326a85-a403-4770-8140-3e77e4785ee5"
      },
      "source": [
        "Cluster_ID = pd.DataFrame(est.labels_)\n",
        "Cluster_ID.head()"
      ],
      "execution_count": null,
      "outputs": [
        {
          "output_type": "execute_result",
          "data": {
            "text/html": [
              "<div>\n",
              "<style scoped>\n",
              "    .dataframe tbody tr th:only-of-type {\n",
              "        vertical-align: middle;\n",
              "    }\n",
              "\n",
              "    .dataframe tbody tr th {\n",
              "        vertical-align: top;\n",
              "    }\n",
              "\n",
              "    .dataframe thead th {\n",
              "        text-align: right;\n",
              "    }\n",
              "</style>\n",
              "<table border=\"1\" class=\"dataframe\">\n",
              "  <thead>\n",
              "    <tr style=\"text-align: right;\">\n",
              "      <th></th>\n",
              "      <th>0</th>\n",
              "    </tr>\n",
              "  </thead>\n",
              "  <tbody>\n",
              "    <tr>\n",
              "      <th>0</th>\n",
              "      <td>3</td>\n",
              "    </tr>\n",
              "    <tr>\n",
              "      <th>1</th>\n",
              "      <td>4</td>\n",
              "    </tr>\n",
              "    <tr>\n",
              "      <th>2</th>\n",
              "      <td>4</td>\n",
              "    </tr>\n",
              "    <tr>\n",
              "      <th>3</th>\n",
              "      <td>4</td>\n",
              "    </tr>\n",
              "    <tr>\n",
              "      <th>4</th>\n",
              "      <td>4</td>\n",
              "    </tr>\n",
              "  </tbody>\n",
              "</table>\n",
              "</div>"
            ],
            "text/plain": [
              "   0\n",
              "0  3\n",
              "1  4\n",
              "2  4\n",
              "3  4\n",
              "4  4"
            ]
          },
          "metadata": {},
          "execution_count": 26
        }
      ]
    },
    {
      "cell_type": "code",
      "metadata": {
        "id": "IKJwyzj0jmyT"
      },
      "source": [
        "kmeans_clustering_labels = pd.DataFrame(est.labels_, columns=['cluster'])\n",
        "cluster_df = pd.concat([VectorData,kmeans_clustering_labels], axis=1)"
      ],
      "execution_count": null,
      "outputs": []
    },
    {
      "cell_type": "code",
      "metadata": {
        "colab": {
          "base_uri": "https://localhost:8080/",
          "height": 204
        },
        "id": "0DosQRdHkCZb",
        "outputId": "615ec8ac-2ae8-43c0-dec9-5a2bfa467671"
      },
      "source": [
        "cluster_df.head()"
      ],
      "execution_count": null,
      "outputs": [
        {
          "output_type": "execute_result",
          "data": {
            "text/html": [
              "<div>\n",
              "<style scoped>\n",
              "    .dataframe tbody tr th:only-of-type {\n",
              "        vertical-align: middle;\n",
              "    }\n",
              "\n",
              "    .dataframe tbody tr th {\n",
              "        vertical-align: top;\n",
              "    }\n",
              "\n",
              "    .dataframe thead th {\n",
              "        text-align: right;\n",
              "    }\n",
              "</style>\n",
              "<table border=\"1\" class=\"dataframe\">\n",
              "  <thead>\n",
              "    <tr style=\"text-align: right;\">\n",
              "      <th></th>\n",
              "      <th>0</th>\n",
              "      <th>1</th>\n",
              "      <th>2</th>\n",
              "      <th>3</th>\n",
              "      <th>4</th>\n",
              "      <th>5</th>\n",
              "      <th>6</th>\n",
              "      <th>7</th>\n",
              "      <th>8</th>\n",
              "      <th>9</th>\n",
              "      <th>10</th>\n",
              "      <th>11</th>\n",
              "      <th>cluster</th>\n",
              "    </tr>\n",
              "  </thead>\n",
              "  <tbody>\n",
              "    <tr>\n",
              "      <th>0</th>\n",
              "      <td>0.556498</td>\n",
              "      <td>0.805695</td>\n",
              "      <td>-0.836094</td>\n",
              "      <td>-0.498969</td>\n",
              "      <td>-0.310500</td>\n",
              "      <td>1.362445</td>\n",
              "      <td>-1.361114</td>\n",
              "      <td>0.410327</td>\n",
              "      <td>-0.939574</td>\n",
              "      <td>0.992470</td>\n",
              "      <td>-0.961440</td>\n",
              "      <td>1.013744</td>\n",
              "      <td>3</td>\n",
              "    </tr>\n",
              "    <tr>\n",
              "      <th>1</th>\n",
              "      <td>0.695071</td>\n",
              "      <td>1.016091</td>\n",
              "      <td>-1.050541</td>\n",
              "      <td>-0.630349</td>\n",
              "      <td>-0.793678</td>\n",
              "      <td>1.014900</td>\n",
              "      <td>-0.967446</td>\n",
              "      <td>0.866970</td>\n",
              "      <td>-0.940639</td>\n",
              "      <td>1.003385</td>\n",
              "      <td>-0.947889</td>\n",
              "      <td>1.014005</td>\n",
              "      <td>4</td>\n",
              "    </tr>\n",
              "    <tr>\n",
              "      <th>2</th>\n",
              "      <td>0.563094</td>\n",
              "      <td>0.981460</td>\n",
              "      <td>-1.015003</td>\n",
              "      <td>-0.510264</td>\n",
              "      <td>-1.276646</td>\n",
              "      <td>0.556302</td>\n",
              "      <td>-0.476303</td>\n",
              "      <td>1.296904</td>\n",
              "      <td>-0.953974</td>\n",
              "      <td>1.009678</td>\n",
              "      <td>-0.949055</td>\n",
              "      <td>0.999016</td>\n",
              "      <td>4</td>\n",
              "    </tr>\n",
              "    <tr>\n",
              "      <th>3</th>\n",
              "      <td>0.413180</td>\n",
              "      <td>0.902019</td>\n",
              "      <td>-0.934285</td>\n",
              "      <td>-0.370525</td>\n",
              "      <td>-1.465143</td>\n",
              "      <td>0.285566</td>\n",
              "      <td>-0.201977</td>\n",
              "      <td>1.445683</td>\n",
              "      <td>-0.968924</td>\n",
              "      <td>1.003388</td>\n",
              "      <td>-0.955316</td>\n",
              "      <td>0.986867</td>\n",
              "      <td>4</td>\n",
              "    </tr>\n",
              "    <tr>\n",
              "      <th>4</th>\n",
              "      <td>0.294110</td>\n",
              "      <td>0.827523</td>\n",
              "      <td>-0.852604</td>\n",
              "      <td>-0.259915</td>\n",
              "      <td>-1.450995</td>\n",
              "      <td>0.167399</td>\n",
              "      <td>-0.087224</td>\n",
              "      <td>1.422412</td>\n",
              "      <td>-0.973163</td>\n",
              "      <td>1.001966</td>\n",
              "      <td>-0.957313</td>\n",
              "      <td>0.983324</td>\n",
              "      <td>4</td>\n",
              "    </tr>\n",
              "  </tbody>\n",
              "</table>\n",
              "</div>"
            ],
            "text/plain": [
              "          0         1         2  ...        10        11  cluster\n",
              "0  0.556498  0.805695 -0.836094  ... -0.961440  1.013744        3\n",
              "1  0.695071  1.016091 -1.050541  ... -0.947889  1.014005        4\n",
              "2  0.563094  0.981460 -1.015003  ... -0.949055  0.999016        4\n",
              "3  0.413180  0.902019 -0.934285  ... -0.955316  0.986867        4\n",
              "4  0.294110  0.827523 -0.852604  ... -0.957313  0.983324        4\n",
              "\n",
              "[5 rows x 13 columns]"
            ]
          },
          "metadata": {},
          "execution_count": 23
        }
      ]
    },
    {
      "cell_type": "code",
      "metadata": {
        "id": "PebxOSMDaDGI"
      },
      "source": [
        "outputpath='/content/drive/MyDrive/Xkool_Technology/cluster_df.csv'#这里聚几类，名字的数字就替换成几类\n",
        "cluster_df.to_csv(outputpath,sep=',',index=False,header=True)"
      ],
      "execution_count": null,
      "outputs": []
    },
    {
      "cell_type": "code",
      "metadata": {
        "colab": {
          "base_uri": "https://localhost:8080/"
        },
        "id": "wpEdTcfkaDGJ",
        "outputId": "9b7d58ba-d655-4847-d7d9-8fbcc1813fda"
      },
      "source": [
        "#获取一个带中心点数据的表，用于2维可视化聚类效果\n",
        "#中心点各特征数据，今后可以用反操作将归一化后的数据还原为真实数据。\n",
        "center = pd.DataFrame(est.cluster_centers_,index=None)\n",
        "#print(center)\n",
        "#中心点的类别标签\n",
        "center['cluster'] =[0,1,2,3,4,5,6,7]#这里聚几类，都列在列表里\n",
        "print(center)\n",
        "X = pd.concat([df,kmeans_clustering_labels], axis=1)\n",
        "print(X)\n",
        "X_center = pd.concat([center,X],ignore_index=True)\n",
        "print(X_center)\n",
        "outpath='/content/drive/MyDrive/Xkool_Technology/cluster_center.csv'\n",
        "X_center.to_csv(outpath,sep=',',index=False,header=True)"
      ],
      "execution_count": null,
      "outputs": [
        {
          "output_type": "stream",
          "name": "stdout",
          "text": [
            "          0         1         2  ...        10        11  cluster\n",
            "0 -0.275647 -0.267178  0.274909  ...  0.994180  0.989354        0\n",
            "1  0.315069  0.560568 -0.565681  ...  0.994256  0.987316        1\n",
            "2  0.264571 -0.754442  0.728859  ...  0.994928  0.985223        2\n",
            "3  0.371720  0.041255 -0.063298  ... -0.964682  0.991672        3\n",
            "4  0.042477  0.584357 -0.594783  ... -0.963103  0.989431        4\n",
            "5  0.105631 -0.279549  0.265019  ...  0.965166  0.993815        5\n",
            "6 -0.519137  0.682628 -0.646216  ...  0.968818  0.991878        6\n",
            "7 -0.673996 -0.793984  0.835480  ... -0.968234  0.993278        7\n",
            "\n",
            "[8 rows x 13 columns]\n",
            "            0         1         2  ...        10        11  cluster\n",
            "0    0.556498  0.805695 -0.836094  ... -0.961440  1.013744        3\n",
            "1    0.695071  1.016091 -1.050541  ... -0.947889  1.014005        4\n",
            "2    0.563094  0.981460 -1.015003  ... -0.949055  0.999016        4\n",
            "3    0.413180  0.902019 -0.934285  ... -0.955316  0.986867        4\n",
            "4    0.294110  0.827523 -0.852604  ... -0.957313  0.983324        4\n",
            "..        ...       ...       ...  ...       ...       ...      ...\n",
            "475  0.368694 -0.666803  0.674900  ...  0.957904  1.006248        2\n",
            "476  0.255570 -0.627182  0.618936  ...  0.979399  1.002747        5\n",
            "477 -0.388409  0.379268 -0.674832  ... -1.014543  0.953906        6\n",
            "478  0.338140 -0.671508  0.687364  ...  0.958696  0.999309        2\n",
            "479  0.377703 -0.643489 -0.327113  ...  1.005527  0.986632        2\n",
            "\n",
            "[480 rows x 13 columns]\n",
            "            0         1         2  ...        10        11  cluster\n",
            "0   -0.275647 -0.267178  0.274909  ...  0.994180  0.989354        0\n",
            "1    0.315069  0.560568 -0.565681  ...  0.994256  0.987316        1\n",
            "2    0.264571 -0.754442  0.728859  ...  0.994928  0.985223        2\n",
            "3    0.371720  0.041255 -0.063298  ... -0.964682  0.991672        3\n",
            "4    0.042477  0.584357 -0.594783  ... -0.963103  0.989431        4\n",
            "..        ...       ...       ...  ...       ...       ...      ...\n",
            "483  0.368694 -0.666803  0.674900  ...  0.957904  1.006248        2\n",
            "484  0.255570 -0.627182  0.618936  ...  0.979399  1.002747        5\n",
            "485 -0.388409  0.379268 -0.674832  ... -1.014543  0.953906        6\n",
            "486  0.338140 -0.671508  0.687364  ...  0.958696  0.999309        2\n",
            "487  0.377703 -0.643489 -0.327113  ...  1.005527  0.986632        2\n",
            "\n",
            "[488 rows x 13 columns]\n"
          ]
        }
      ]
    },
    {
      "cell_type": "code",
      "metadata": {
        "id": "WtcpY3wsaDGJ"
      },
      "source": [
        "#tsne进行df特征对原数据降维可视化,降成两维（去掉聚类信息避免泄露）\n",
        "from sklearn.manifold import TSNE\n",
        "RS = 2022012\n",
        "tsne=TSNE(#random_state=RS,\n",
        "    n_components=2, init='pca', n_iter=2000,learning_rate = 1000)\n",
        "X_tsne =X\n",
        "X_tsne.head(16)\n",
        "a=tsne.fit_transform(X_tsne)  \n",
        "tsne=pd.DataFrame(tsne.embedding_,index=X_tsne.index) "
      ],
      "execution_count": null,
      "outputs": []
    },
    {
      "cell_type": "code",
      "metadata": {
        "scrolled": false,
        "colab": {
          "base_uri": "https://localhost:8080/",
          "height": 204
        },
        "id": "88AncKYcaDGJ",
        "outputId": "56ae811c-a1a8-4f0a-8cf7-0a2a96954d84"
      },
      "source": [
        "tsne_cluster = pd.concat([tsne,X_center['cluster']], axis=1)\n",
        "tsne_cluster.head()"
      ],
      "execution_count": null,
      "outputs": [
        {
          "output_type": "execute_result",
          "data": {
            "text/html": [
              "<div>\n",
              "<style scoped>\n",
              "    .dataframe tbody tr th:only-of-type {\n",
              "        vertical-align: middle;\n",
              "    }\n",
              "\n",
              "    .dataframe tbody tr th {\n",
              "        vertical-align: top;\n",
              "    }\n",
              "\n",
              "    .dataframe thead th {\n",
              "        text-align: right;\n",
              "    }\n",
              "</style>\n",
              "<table border=\"1\" class=\"dataframe\">\n",
              "  <thead>\n",
              "    <tr style=\"text-align: right;\">\n",
              "      <th></th>\n",
              "      <th>0</th>\n",
              "      <th>1</th>\n",
              "      <th>cluster</th>\n",
              "    </tr>\n",
              "  </thead>\n",
              "  <tbody>\n",
              "    <tr>\n",
              "      <th>0</th>\n",
              "      <td>1.933484</td>\n",
              "      <td>13.114736</td>\n",
              "      <td>0</td>\n",
              "    </tr>\n",
              "    <tr>\n",
              "      <th>1</th>\n",
              "      <td>3.038595</td>\n",
              "      <td>11.365209</td>\n",
              "      <td>1</td>\n",
              "    </tr>\n",
              "    <tr>\n",
              "      <th>2</th>\n",
              "      <td>3.452010</td>\n",
              "      <td>10.698900</td>\n",
              "      <td>2</td>\n",
              "    </tr>\n",
              "    <tr>\n",
              "      <th>3</th>\n",
              "      <td>3.748086</td>\n",
              "      <td>10.453372</td>\n",
              "      <td>3</td>\n",
              "    </tr>\n",
              "    <tr>\n",
              "      <th>4</th>\n",
              "      <td>3.540081</td>\n",
              "      <td>10.078030</td>\n",
              "      <td>4</td>\n",
              "    </tr>\n",
              "  </tbody>\n",
              "</table>\n",
              "</div>"
            ],
            "text/plain": [
              "          0          1  cluster\n",
              "0  1.933484  13.114736        0\n",
              "1  3.038595  11.365209        1\n",
              "2  3.452010  10.698900        2\n",
              "3  3.748086  10.453372        3\n",
              "4  3.540081  10.078030        4"
            ]
          },
          "metadata": {},
          "execution_count": 72
        }
      ]
    },
    {
      "cell_type": "code",
      "metadata": {
        "scrolled": false,
        "colab": {
          "base_uri": "https://localhost:8080/",
          "height": 498
        },
        "id": "q-XjxvGUaDGK",
        "outputId": "5b939802-eb11-4496-c4a9-ba8225132fa6"
      },
      "source": [
        "#显示降维后的数据分布\n",
        "Z = np.array(tsne_cluster)\n",
        "fig = plt.figure(figsize=(12, 8))\n",
        "plt.scatter(Z[:, 0], Z[:, 1],c = \"red\", label='t-SNE')\n",
        "\n",
        "plt.xlabel('component_1')\n",
        "plt.ylabel('component_2')\n",
        "plt.legend(loc=2)\n",
        "plt.show()"
      ],
      "execution_count": null,
      "outputs": [
        {
          "output_type": "display_data",
          "data": {
            "image/png": "[encoded data removed]",
            "text/plain": [
              "<Figure size 864x576 with 1 Axes>"
            ]
          },
          "metadata": {
            "needs_background": "light"
          }
        }
      ]
    },
    {
      "cell_type": "code",
      "metadata": {
        "colab": {
          "base_uri": "https://localhost:8080/"
        },
        "id": "4s9vnYamaDGK",
        "outputId": "04c5661b-e5c6-4c3b-c17c-9c066dfe6b27"
      },
      "source": [
        "# 这里把有标签的一列拿出来\n",
        "label_pred = Z[:,2]\n",
        "#绘制k-means结果\n",
        "#这里根据标签那一列所在的索引 去选取对应类别的数据\n",
        "x0 = Z[label_pred == 0]\n",
        "x1 = Z[label_pred == 1]\n",
        "x2 = Z[label_pred == 2]\n",
        "x3 = Z[label_pred == 3]\n",
        "x4 = Z[label_pred == 4]\n",
        "x5 = Z[label_pred == 5]\n",
        "x6 = Z[label_pred == 6]\n",
        "x7 = Z[label_pred == 7]\n",
        "#x8 = Z[label_pred == 8]\n",
        "#x9 = Z[label_pred == 9]\n",
        "print(x3)"
      ],
      "execution_count": null,
      "outputs": [
        {
          "output_type": "stream",
          "name": "stdout",
          "text": [
            "[[  3.74808621  10.453372     3.        ]\n",
            " [  3.76307011   9.45744991   3.        ]\n",
            " [  0.68282229  15.20835972   3.        ]\n",
            " [  0.34632167  14.82793617   3.        ]\n",
            " [  1.23312056  15.15911007   3.        ]\n",
            " [  1.21224177  14.9754076    3.        ]\n",
            " [  0.55293387  14.43744755   3.        ]\n",
            " [  0.92341244  14.47431755   3.        ]\n",
            " [  1.51384377  14.63901424   3.        ]\n",
            " [  0.7666657   14.0616703    3.        ]\n",
            " [  1.61054814  14.39430428   3.        ]\n",
            " [  0.95629913  13.88280773   3.        ]\n",
            " [  1.68922269  14.17799187   3.        ]\n",
            " [  1.25541139  13.73657417   3.        ]\n",
            " [  1.62740827  13.75509548   3.        ]\n",
            " [-13.00371075 -41.87093735   3.        ]\n",
            " [-53.52895355  -1.10824013   3.        ]\n",
            " [ -7.7282424  -44.67237473   3.        ]\n",
            " [ -8.99929619 -45.70228195   3.        ]\n",
            " [-12.94530106 -46.40579987   3.        ]\n",
            " [-14.99750328 -46.01583862   3.        ]\n",
            " [-16.07217026 -42.2761879    3.        ]\n",
            " [-16.93432236 -41.93287659   3.        ]]\n"
          ]
        }
      ]
    },
    {
      "cell_type": "code",
      "metadata": {
        "colab": {
          "base_uri": "https://localhost:8080/"
        },
        "id": "tmkWmu7kaDGK",
        "outputId": "0bf2d3b5-9b95-4777-e2ac-cf126be7eddf"
      },
      "source": [
        "# 取出中心点数据  \n",
        "c = tsne_cluster.iloc[1996:2004]\n",
        "xc = np.array(c)\n",
        "print(xc)"
      ],
      "execution_count": null,
      "outputs": [
        {
          "output_type": "stream",
          "name": "stdout",
          "text": [
            "[]\n"
          ]
        }
      ]
    },
    {
      "cell_type": "code",
      "metadata": {
        "colab": {
          "base_uri": "https://localhost:8080/",
          "height": 498
        },
        "id": "RfnXsxSsaDGL",
        "outputId": "db6dbddf-9adc-4d07-ff85-dae37425dd90"
      },
      "source": [
        "fig = plt.figure(figsize=(12, 8))\n",
        "plt.scatter(x0[:1995, 0], x0[:1995, 1], c = \"orange\", marker='o', label='label0')\n",
        "plt.scatter(x1[:1995, 0], x1[:1995, 1], c = \"green\", marker='*', label='label1')\n",
        "plt.scatter(x2[:1995, 0], x2[:1995, 1], c = \"blue\", marker='+', label='label2')\n",
        "plt.scatter(x3[:1995, 0], x3[:1995, 1], c = \"darkviolet\", marker='*', label='label3')\n",
        "plt.scatter(x4[:1995, 0], x4[:1995, 1], c = \"aqua\", marker='o', label='label4')\n",
        "plt.scatter(x5[:1995, 0], x5[:1995, 1], c = \"brown\", marker='*', label='label5')\n",
        "plt.scatter(x6[:1995, 0], x6[:1995, 1], c = \"coral\", marker='*', label='label6')\n",
        "plt.scatter(x7[:2000, 0], x7[:2000, 1], c = \"darkgray\", marker='*', label='label7')\n",
        "\n",
        "plt.scatter(xc[:,0], xc[:,1],c=\"red\",edgecolors='none',marker='D',label='centroid')\n",
        "plt.xlabel('component_1')\n",
        "plt.ylabel('component_2')\n",
        "plt.legend(loc=2)\n",
        "plt.show()"
      ],
      "execution_count": null,
      "outputs": [
        {
          "output_type": "display_data",
          "data": {
            "image/png": "[encoded data removed]",
            "text/plain": [
              "<Figure size 864x576 with 1 Axes>"
            ]
          },
          "metadata": {
            "needs_background": "light"
          }
        }
      ]
    },
    {
      "cell_type": "code",
      "metadata": {
        "id": "wH11FYuJaDGL"
      },
      "source": [
        "#这一段不能重复运行！！加一列每个样本距离聚类中心点的距离 用来筛选模拟样本\n",
        "from scipy.spatial import distance\n",
        "\n",
        "X_point_list = np.array(X_center)\n",
        "point_list  =X_point_list[:,-1]\n",
        "X_center_list = np.array(center)\n",
        "center_point = X_center_list[:,-1]\n",
        "\n",
        "\n",
        "\n",
        "dist = []\n",
        "\n",
        "\n",
        "for i in X_point_list:\n",
        "    if i[-1] == 0 :\n",
        "        b = X_center_list[center_point == 0].flatten()  \n",
        "        dist1= distance.euclidean(i[:-1],b[:-1])\n",
        "    elif i[-1] == 1 :\n",
        "        b = X_center_list[center_point == 1].flatten()  \n",
        "        dist1= distance.euclidean(i[:-1],b[:-1])\n",
        "    elif i[-1] == 2 :\n",
        "        b = X_center_list[center_point == 2].flatten()  \n",
        "        dist1= distance.euclidean(i[:-1],b[:-1]) \n",
        "    elif i[-1] == 3 :\n",
        "        b = X_center_list[center_point == 3].flatten()  \n",
        "        dist1= distance.euclidean(i[:-1],b[:-1])\n",
        "    elif i[-1] == 4 :\n",
        "        b = X_center_list[center_point == 4].flatten()  \n",
        "        dist1= distance.euclidean(i[:-1],b[:-1])\n",
        "    elif i[-1] == 5 :\n",
        "        b = X_center_list[center_point == 5].flatten()  \n",
        "        dist1= distance.euclidean(i[:-1],b[:-1])\n",
        "    elif i[-1] == 6 :\n",
        "        b = X_center_list[center_point == 6].flatten()  \n",
        "        dist1= distance.euclidean(i[:-1],b[:-1])\n",
        "    elif i[-1] == 7 :\n",
        "        b = X_center_list[center_point == 7].flatten()  \n",
        "        dist1= distance.euclidean(i[:-1],b[:-1])\n",
        "    else:\n",
        "        dist1 = ''\n",
        "    dist.append(dist1)\n",
        "    \n",
        "cluster_df['dist'] = dist[:1996]\n",
        "outpath='C:/Users/Administrator/Desktop/dachuagnbi/dachaugnsz/dachuagnsz/final_data.csv'\n",
        "cluster_df.to_csv(outpath,sep=',',index=False,header=True)\n",
        "        \n",
        "\n",
        "\n",
        "\n",
        "\n",
        "\n"
      ],
      "execution_count": null,
      "outputs": []
    }
  ]
}